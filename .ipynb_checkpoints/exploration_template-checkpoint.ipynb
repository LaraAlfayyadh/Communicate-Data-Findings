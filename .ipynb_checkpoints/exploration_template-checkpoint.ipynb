{
 "cells": [
  {
   "cell_type": "markdown",
   "metadata": {},
   "source": [
    "# Visualizing FordGoBike Data\n",
    "\n",
    "## by Lara Alfayyadh\n",
    "\n",
    "\n",
    "### Introduce dataset .\n",
    "> Ford GoBike, like other bike share systems, consists of a fleet of specially designed, sturdy and durable bikes that are locked into a network of docking stations throughout the city. The bikes can be taken from one station and returned to any other in the system. People use bike share to go to work or school or more. The ride of bike fun, convenient and affordable way to get around. \n",
    "The bikes are available for use 24 hours/day, 7 days/week, 365 days/year and riders have access to all bikes in the network when they become a member or purchase a pass."
   ]
  },
  {
   "cell_type": "markdown",
   "metadata": {},
   "source": [
    "## Preliminary Wrangling\n",
    "> It's time to collect and explore our data. In this project, The dataset consist of approximately 311894 bike rides from 2018( Jan-Dec)."
   ]
  },
  {
   "cell_type": "markdown",
   "metadata": {},
   "source": [
    "## Gathering Data\n"
   ]
  },
  {
   "cell_type": "code",
   "execution_count": null,
   "metadata": {},
   "outputs": [],
   "source": [
    "# import all packages \n",
    "import numpy as np\n",
    "import pandas as pd\n",
    "import matplotlib.pyplot as plt\n",
    "import seaborn as sb\n",
    "%matplotlib inline\n",
    "import glob\n",
    "import os\n",
    "import datetime"
   ]
  },
  {
   "cell_type": "markdown",
   "metadata": {},
   "source": [
    "> Load dataset. I have joined 4 files of dataset into one called 'merge_file.csv'"
   ]
  },
  {
   "cell_type": "code",
   "execution_count": null,
   "metadata": {},
   "outputs": [],
   "source": [
    "path = '/Users/eng.mona/Desktop/merge'\n",
    "\n",
    "all_files = glob.glob(os.path.join(path, \"*.csv\"))\n",
    "\n",
    "df = pd.concat((pd.read_csv(f) for f in all_files), ignore_index = True)\n",
    "\n",
    "df.to_csv('merge_file.csv', index=False)"
   ]
  },
  {
   "cell_type": "code",
   "execution_count": null,
   "metadata": {},
   "outputs": [],
   "source": [
    "# load in the dataset into a pandas dataframe\n",
    "df = pd.read_csv('merge_file.csv')"
   ]
  },
  {
   "cell_type": "markdown",
   "metadata": {},
   "source": [
    "## Assessing Data\n",
    "\n"
   ]
  },
  {
   "cell_type": "code",
   "execution_count": null,
   "metadata": {},
   "outputs": [],
   "source": [
    "# showing first 70 rows to understand the data\n",
    "df.sample(70)"
   ]
  },
  {
   "cell_type": "code",
   "execution_count": null,
   "metadata": {},
   "outputs": [],
   "source": [
    "# look for null values and more info\n",
    "df.info()"
   ]
  },
  {
   "cell_type": "code",
   "execution_count": null,
   "metadata": {},
   "outputs": [],
   "source": [
    "# Check for duplicate values \n",
    "df.duplicated().sum()"
   ]
  },
  {
   "cell_type": "code",
   "execution_count": null,
   "metadata": {},
   "outputs": [],
   "source": [
    "# View descriptive statistics\n",
    "df.describe()"
   ]
  },
  {
   "cell_type": "markdown",
   "metadata": {},
   "source": [
    "#### Quality issues\n",
    "* start_time and end_time are objects not a timestamps\n",
    "* bike_id, start_station, end_station should be set to object\n",
    "* We can enhance the dataset with more details like month, day, hour, weekday to use it in our investigation\n",
    "\n"
   ]
  },
  {
   "cell_type": "markdown",
   "metadata": {},
   "source": [
    "## Cleaning Data\n"
   ]
  },
  {
   "cell_type": "code",
   "execution_count": null,
   "metadata": {},
   "outputs": [],
   "source": [
    "# Create copies of original dataframes to work with\n",
    "df_clean = df.copy()"
   ]
  },
  {
   "cell_type": "markdown",
   "metadata": {},
   "source": [
    "#### Define\n",
    "Change start_time and end_time to timestamps"
   ]
  },
  {
   "cell_type": "markdown",
   "metadata": {},
   "source": [
    "#### Code"
   ]
  },
  {
   "cell_type": "code",
   "execution_count": null,
   "metadata": {},
   "outputs": [],
   "source": [
    "# Change start_time and end_time to timestamps\n",
    "\n",
    "#code\n",
    "df_clean.start_time = pd.to_datetime(df_clean.start_time)\n",
    "df_clean.end_time = pd.to_datetime(df_clean.end_time)"
   ]
  },
  {
   "cell_type": "markdown",
   "metadata": {},
   "source": [
    "#### Define\n",
    "Change bike id, start_station_id, end_station_id to object"
   ]
  },
  {
   "cell_type": "markdown",
   "metadata": {},
   "source": [
    "#### Code"
   ]
  },
  {
   "cell_type": "code",
   "execution_count": null,
   "metadata": {},
   "outputs": [],
   "source": [
    "# Code\n",
    "# Change bike id, start_station_id, end_station_id to object\n",
    "df_clean.bike_id = df_clean.bike_id.astype(str)\n",
    "df_clean.start_station = df_clean.start_station.astype(str)\n",
    "df_clean.end_station = df_clean.end_station.astype(str)"
   ]
  },
  {
   "cell_type": "markdown",
   "metadata": {},
   "source": [
    "#### Test"
   ]
  },
  {
   "cell_type": "code",
   "execution_count": null,
   "metadata": {},
   "outputs": [],
   "source": [
    "# Test define 1 and 2\n",
    "df_clean.info()"
   ]
  },
  {
   "cell_type": "code",
   "execution_count": null,
   "metadata": {},
   "outputs": [],
   "source": [
    "# Start time month (Jan - Dec)\n",
    "df_clean['start_time_month'] = df_clean['start_time'].dt.strftime('%B')"
   ]
  },
  {
   "cell_type": "code",
   "execution_count": null,
   "metadata": {},
   "outputs": [],
   "source": [
    "# get dayofweek and hours information from the start_time\n",
    "df_clean['start_time_dayofweek']= df_clean['start_time'].dt.strftime('%a')"
   ]
  },
  {
   "cell_type": "code",
   "execution_count": null,
   "metadata": {},
   "outputs": [],
   "source": [
    "# get start time by day\n",
    "df_clean['start_time_day'] = df_clean['start_time'].dt.day.astype(int)"
   ]
  },
  {
   "cell_type": "code",
   "execution_count": null,
   "metadata": {},
   "outputs": [],
   "source": [
    "# get start time hour\n",
    "df_clean['start_time_hour'] = df_clean['start_time'].dt.hour"
   ]
  },
  {
   "cell_type": "code",
   "execution_count": null,
   "metadata": {},
   "outputs": [],
   "source": [
    "# Convert the duration of ride from seconds to minutes\n",
    "df_clean['duration_min'] = df_clean['duration']/60\n",
    "df_clean['duration_min'] = df_clean['duration_min'].astype(int)"
   ]
  },
  {
   "cell_type": "code",
   "execution_count": null,
   "metadata": {},
   "outputs": [],
   "source": [
    "# Show the new columns has been added above\n",
    "df_clean.sample(70)"
   ]
  },
  {
   "cell_type": "code",
   "execution_count": null,
   "metadata": {},
   "outputs": [],
   "source": [
    "df_clean.info()"
   ]
  },
  {
   "cell_type": "markdown",
   "metadata": {},
   "source": [
    "### What is the structure of your dataset?\n",
    "\n",
    "> The Ford GoBike data is understandable and it has been collected efficiently there is no null or depulecated valus only few quality issus.\n",
    "The dataset has 311894 bike rides from 2018( Jan-Dec).The column header descriptions are as follows:\n",
    "* Duration\n",
    " 1. Start Time\n",
    " 2. End Time \n",
    " 3. Plan Duration\t\n",
    "* Start Station\n",
    " 1. Start Station Latitude\n",
    " 2. Start Station Longitude\n",
    "* End Station\n",
    " 1. End Station\n",
    " 2. End Station Latitude\n",
    " 3. End Station Longitude\n",
    "* Bike ID\n",
    " 1. Bike Type (standard, electric or NaN)\n",
    " 2. Passholder Type (Walk-up, Monthly Pass, One Day Pass, Flex Pass or Annual Pass)\n",
    "* Trip ID \n",
    " 1. Trip Route Category (One Way or Round Trip)\n",
    "\n",
    "\n",
    "> I added the following columns in my cleaning work to support my analysis:\n",
    "* start Time month\n",
    "* start Time day\n",
    "* start Time DayoftheWeek\n",
    "* start_time_hour\n",
    "* duration_min\n",
    "\n",
    "\n",
    "\n",
    "\n",
    "\n",
    "### What is/are the main feature(s) of interest in your dataset?\n",
    "\n",
    "> I'm most interested in figuring out when and where bikes are in high demand (during the day/weekday/month/ minutes) for both users. These features can be used to make business decisions such as how can I attract the customer to be a subscriber,  should I offer discounts coupons, or targeting them by marketing campaigns and when.\n",
    "\n",
    "\n",
    "### What features in the dataset do you think will help support your investigation into your feature(s) of interest?\n",
    "\n",
    "> I think the following features may help to support my investigation:\n",
    "\n",
    "* Start Time month\n",
    "* Start Time day\n",
    "* Start Time DayoftheWeek\n",
    "* start_time_hour\n",
    "* duration_min\n",
    "* user type"
   ]
  },
  {
   "cell_type": "markdown",
   "metadata": {},
   "source": [
    "## Univariate Exploration\n"
   ]
  },
  {
   "cell_type": "code",
   "execution_count": null,
   "metadata": {},
   "outputs": [],
   "source": [
    "# First will see what the numbers we expect to visiulaize \n",
    "df_clean.start_time_month.describe()"
   ]
  },
  {
   "cell_type": "markdown",
   "metadata": {},
   "source": [
    "> First I'll start by looking at the monthly trend for number of bike rentals during the first 6 months of the year"
   ]
  },
  {
   "cell_type": "code",
   "execution_count": null,
   "metadata": {
    "scrolled": true
   },
   "outputs": [],
   "source": [
    "# monthly use of the bike sharing system\n",
    "\n",
    "# function of catplot\n",
    "def catplot_func(dataF, theX, theKind, theColor, theHeight, x_labels, y_labels, title, font):\n",
    "    f_graph = sb.catplot(data = dataF, x = theX, kind = theKind, color = theColor, height = theHeight)\n",
    "    f_graph.set_axis_labels(x_labels, y_labels)\n",
    "    f_graph.fig.suptitle(title, fontweight = font);\n",
    "    \n",
    "# Calling the function\n",
    "catplot_func(df_clean, 'start_time_month', 'count','#1E90FF', 10, \"Month\", \"Number of Bike ride\", '12 months use of bike share system', 'semibold')"
   ]
  },
  {
   "cell_type": "code",
   "execution_count": null,
   "metadata": {},
   "outputs": [],
   "source": [
    "df_clean[df_clean.start_time_month == 'August'].count()[0]"
   ]
  },
  {
   "cell_type": "markdown",
   "metadata": {},
   "source": [
    "> The above figure show number of rides for each month. And we can see August is has the highest number of rides (trips) 33328 rides."
   ]
  },
  {
   "cell_type": "code",
   "execution_count": null,
   "metadata": {
    "scrolled": true
   },
   "outputs": [],
   "source": [
    "# monthly use of the bike sharing system\n",
    "df_clean.start_time_month.value_counts().plot(kind='pie', figsize=(10,10),fontsize =15, autopct='%1.1f%%')\n",
    "\n",
    "ax = plt.gca()\n",
    "ax.set_ylabel('')\n",
    "ax.set_xlabel('Month')\n",
    "ax.set_title(\"12 months use of bike share system\", fontsize=15);"
   ]
  },
  {
   "cell_type": "markdown",
   "metadata": {},
   "source": [
    "> The above figure show percentage of rides for each month. And we can see August is has the highest number of rides (trips)"
   ]
  },
  {
   "cell_type": "code",
   "execution_count": null,
   "metadata": {},
   "outputs": [],
   "source": [
    "# Show the start_time_dayofweek use of the bike sharing system\n",
    "\n",
    "# Calling the function\n",
    "catplot_func(df_clean, 'start_time_dayofweek', 'count','#1E90FF', 6, \"Days Of Week\", \"Number of Bike ride\", 'The Start Time By Days Of Week', 'semibold')"
   ]
  },
  {
   "cell_type": "markdown",
   "metadata": {},
   "source": [
    "> As we can see, The bike does have the highest number of bikers on Tuesday and Friday. "
   ]
  },
  {
   "cell_type": "code",
   "execution_count": null,
   "metadata": {},
   "outputs": [],
   "source": [
    "# Show the start_time_hour use of the bike sharing system\n",
    "\n",
    "# Calling the function\n",
    "catplot_func(df_clean, 'start_time_hour', 'count','#1E90FF', 6, \"Hour\", \"Number of Bike ride\", 'Start Time Hour', 'semibold')"
   ]
  },
  {
   "cell_type": "markdown",
   "metadata": {},
   "source": [
    "> As we can see, the above figure show the number of rides (trips) for each hour, the two peak hours are 8:00 AM to 7:00 PM they are have the highest number of rides and that because the work hours (start and end work). Also we can see the rides between 12:00 AM and 5:00 AM have the lowest number of rides and that hours sleep.\n"
   ]
  },
  {
   "cell_type": "markdown",
   "metadata": {},
   "source": [
    "### Discuss the distribution(s) of your variable(s) of interest. Were there any unusual points? Did you need to perform any transformations?\n",
    "\n",
    "> Due to the cleaning efforts,  there were no unusual points in the exploratory and visualization phase.\n",
    "\n",
    "### Of the features you investigated, were there any unusual distributions? Did you perform any operations on the data to tidy, adjust, or change the form of the data? If so, why did you do this?\n",
    "\n",
    "> So far nothing seems as unusual distributions for a bike-sharing system. The data reveals that the weekday has the highest number of bikers which I didn't expect."
   ]
  },
  {
   "cell_type": "markdown",
   "metadata": {},
   "source": [
    "## Bivariate Exploration"
   ]
  },
  {
   "cell_type": "code",
   "execution_count": null,
   "metadata": {},
   "outputs": [],
   "source": [
    "# Setting the days into order\n",
    "df_clean['start_time_dayofweek'] = pd.Categorical(df_clean['start_time_dayofweek'], \n",
    "                                                categories=['Sat','Sun','Mon','Tue','Wed', 'Thu','Fri'],  ordered=True)\n",
    "# Show the number of use by day for each passholder type \n",
    "\n",
    "# function of countplot\n",
    "def countplot_func(dataF, theX, theHue,thePalette, theTitle, theFont):\n",
    "    # Make the fiqure size\n",
    "    plt.figure(figsize = [20, 40]);\n",
    "\n",
    "    # Size of subplot\n",
    "    ax = plt.subplot(6, 1, 5);\n",
    "\n",
    "    sb.countplot(data = dataF, x = theX, hue = theHue, palette = thePalette).set_title(theTitle, fontsize = theFont);\n",
    "# Calling the function\n",
    "countplot_func(df_clean,'start_time_dayofweek', 'passholder_type', 'spring', 'The use of each passholder type by weekday', 20)"
   ]
  },
  {
   "cell_type": "markdown",
   "metadata": {},
   "source": [
    "> Tuesday has the most 'Monthly Pass' bikers compared to other days, Then Wednesday and Thursday are approximately similar to the number of bikers on Tuesday. On the other hand the, the highest number of 'Walk-up' bikers on Sunday then Saturday compared to other days which is due to the weekend."
   ]
  },
  {
   "cell_type": "code",
   "execution_count": null,
   "metadata": {},
   "outputs": [],
   "source": [
    "# Show the number of use by month for each passholder type \n",
    "# Calling the function\n",
    "countplot_func(df_clean, 'start_time_month', 'passholder_type', 'summer', 'The use of each passholder type by months', 20)"
   ]
  },
  {
   "cell_type": "markdown",
   "metadata": {},
   "source": [
    "> As we can see, the share bike system trends for 'Walk-up' and 'Monthly Pass'  which is on July, August and September"
   ]
  },
  {
   "cell_type": "code",
   "execution_count": null,
   "metadata": {},
   "outputs": [],
   "source": [
    "# passholder_type Usage by Min Duration \n",
    "data = df_clean.query('duration_min < 45')\n",
    "gr = sb.catplot(data = df_clean, x = 'duration_min', col='passholder_type', kind='count', sharey = False, color = '#1E90FF', height = 8, aspect= 2, col_wrap = 2, size = 4);\n",
    "\n",
    "gr.set_axis_labels('Duration (Min)', 'Number of Bike rides')\n",
    "gr.set_titles('{col_name}')\n",
    "\n",
    "gr.fig.suptitle('Passholder Type with Ride Duration (Min)', y=1.00, fontsize=15, fontweight='bold');\n",
    "gr.set_xticklabels(rotation=75);"
   ]
  },
  {
   "cell_type": "code",
   "execution_count": null,
   "metadata": {},
   "outputs": [],
   "source": [
    "# Code for the boxplot duration (Min) distribution \n",
    "con = df_clean.query('duration_min < 45')\n",
    "g1 = sb.catplot(data=con, y='duration_min', col=\"passholder_type\", kind='box', col_wrap = 2, size = 4)\n",
    "g1.set_titles(col_template = '{col_name}')\n",
    "g1.set_axis_labels(\"\", \"Trip Duration (Min)\")\n",
    "g1.fig.suptitle('Trip Duration (Min) boxplot with Passholder Type', y=1.05, fontsize=15, fontweight='semibold');"
   ]
  },
  {
   "cell_type": "markdown",
   "metadata": {},
   "source": [
    "> The graphs above shows the ride duration spread in minutes to visualize the trends of Walk-up, Monthly Pass, One Day Pass, Flex Pass and Annual Pass easier. For the Monthly and Annual Pass the ride duration is not that long, that make us conclude that they uses the bike for short trips like school, work, or other. On the other hand, the Walk-up and One Day Pass then Flex Pass have ride durations longer which is quite not what I expected."
   ]
  },
  {
   "cell_type": "markdown",
   "metadata": {},
   "source": [
    "### Talk about some of the relationships you observed in this part of the investigation. How did the feature(s) of interest vary with other features in the dataset?\n",
    "\n",
    " Adding the Passholder Type to the analysis depicted different usage Walk-up, Monthly Pass, One Day Pass, Flex Pass and Annual Pass.\n",
    "* The Walk-up's peak time in August which is summer season and most often on Saturday and Sunday which is weekend maybe they are tourist or to do family, friends activities.\n",
    "* The bike duration for 'One Day Pass' biker is longer than the duration of the 'Monthly Pass' bikers.\n",
    "* 'Monthly Pass' bikers use the bike-sharing system during the weekday and more often in May and for a short ride. \n",
    "##### To sum up the data give us a clear idea that most of the ‘Monthly Pass’ are employees or students who use the system in the weekday and at the trend hours for going to work or back which are (8:00 AM to 7:00 PM)\n",
    "\n",
    "### Did you observe any interesting relationships between the other features (not the main feature(s) of interest)?\n",
    "\n",
    "> Tuesday has the most 'Monthly Pass' bikers compared to other days. Sunday has the most 'Walk-up' bikers compared to other days.\n",
    "for the Walk-up it is clear because it is weekend but for the Monthly Pass there is no clear reason why Tuesday is the highest."
   ]
  },
  {
   "cell_type": "markdown",
   "metadata": {},
   "source": [
    "## Multivariate Exploration\n"
   ]
  },
  {
   "cell_type": "code",
   "execution_count": null,
   "metadata": {},
   "outputs": [],
   "source": [
    "# Here we have to focus on knowing if passholder_type leads to the heigher duration\n",
    "\n",
    "plt.figure(figsize = [10, 5])\n",
    "base_color = sb.color_palette()[1]\n",
    "\n",
    "\n",
    "# Setting the monthes into order\n",
    "df_clean['start_time_month'] = pd.Categorical(df_clean['start_time_month'], \n",
    "                                                categories=['January','February','March','April','May', 'June'], \n",
    "                                                ordered=True)\n",
    "\n",
    "gs = sb.boxplot(data = df_clean, x = 'start_time_month', y = 'duration_min', hue = 'passholder_type', color = base_color)\n",
    "plt.ylim([0, 3])\n",
    "plt.title('Trip Duration in Min by Months and passholder Type')\n",
    "plt.xlabel('Months')\n",
    "plt.ylabel('Trip Duration Min')"
   ]
  },
  {
   "cell_type": "markdown",
   "metadata": {},
   "source": [
    "> ##### As we can see, the One Day Pass use the bike-sharing system more than Walk-up,  Flex, Monthly and Annual Pass. Based on that data we can give the  One Day Pass offer so we can benefit more since there is a high demand on the bikes by them."
   ]
  },
  {
   "cell_type": "code",
   "execution_count": null,
   "metadata": {},
   "outputs": [],
   "source": [
    "# show the start_time_dayofweek by duration_sec and user_type\n",
    "\n",
    "g = sb.catplot(data=data, x='start_time_dayofweek', y=\"duration\", hue=\"passholder_type\", kind=\"violin\", height = 20)\n",
    "\n",
    "g.set_axis_labels(\"Dyes\", \"Trip duration in Sec\")\n",
    "g._legend.set_title('User type')\n",
    "g.fig.suptitle('Trip duration per user type for each day', y=1.03, fontsize=14, fontweight='semibold');"
   ]
  },
  {
   "cell_type": "markdown",
   "metadata": {},
   "source": [
    "> ##### As we can see, the Walk-up duration is more during the weekend especially on Sunday and Saturday. but for the Monthly Pass, all the weekday are quite similar in the duration."
   ]
  },
  {
   "cell_type": "code",
   "execution_count": null,
   "metadata": {},
   "outputs": [],
   "source": [
    "# Setting the monthes into order\n",
    "df_clean['start_time_month'] = pd.Categorical(df_clean['start_time_month'], \n",
    "                                                categories=['January','February','March','April','May', 'June'], ordered=True)\n",
    "\n",
    "# Make the figure size\n",
    "plt.figure(figsize=(9,8))\n",
    "plt.suptitle('Hourly use during the weekday for Walk-up and  Monthly Pass', fontsize=14, fontweight='semibold')\n",
    "\n",
    "# function of heatmap\n",
    "def heatmap(value):\n",
    "\n",
    "    if (value == \"Walk-up\"):\n",
    "        plt.subplot(1, 2, 1)\n",
    "        df_cus = df_clean.query('passholder_type == \"Walk-up\"').groupby([\"start_time_hour\", \"start_time_month\"])[\"bike_id\"].size().reset_index()\n",
    "        df_cus = df_cus.pivot(\"start_time_hour\", \"start_time_month\", \"bike_id\")\n",
    "        sb.heatmap(df_cus, cmap=\"BuPu\")\n",
    "\n",
    "    \n",
    "    else:\n",
    "        plt.subplot(1, 2, 2)\n",
    "        df_subs = df_clean.query('passholder_type == \"Monthly Pass\"').groupby([\"start_time_hour\", \"start_time_month\"])[\"bike_id\"].size().reset_index()\n",
    "        df_subs = df_subs.pivot(\"start_time_hour\", \"start_time_month\", \"bike_id\")\n",
    "        sb.heatmap(df_subs, cmap=\"BuPu\")\n",
    "\n",
    "    \n",
    "\n",
    "    plt.title(value, y=1.014)\n",
    "    plt.xlabel('Months')\n",
    "    plt.ylabel('Start Time by Hour');\n",
    "    \n",
    "# Calling the function   \n",
    "heatmap(\"Walk-up\")\n",
    "heatmap(\"Monthly Pass\")"
   ]
  },
  {
   "cell_type": "markdown",
   "metadata": {},
   "source": [
    "> ##### Walk-up: The heat map above shows us two cases. for the first case which is the Walk-up, we can recognize that on March to June the heat map became darker especially between 12 PM till 5 PM and peaking in March around 2 PM, April 4 PM, Jun 5 PM.\n",
    "> ##### Monthly Pass: Starting from March, most bike rides occur around 8-9 AM and 4-6 PM.and peaking on June at 8 AM and 6 PM."
   ]
  },
  {
   "cell_type": "markdown",
   "metadata": {},
   "source": [
    "### Talk about some of the relationships you observed in this part of the investigation. Were there features that strengthened each other in terms of looking at your feature(s) of interest?\n",
    "\n",
    "> The heatmap did not show anything new based on the discussion in the previous sections, such as when and what time each passholder type uses the bike-sharing system. However, Walk-up use the system different time than the Monthly Pass. For Walk-up, as depicted in univariate explorations, most of the trips  on weekends but for the Monthly Pass, they prefer the weekday in the morning like 8 AM.\n",
    "\n",
    "### Were there any interesting or surprising interactions between features?\n",
    "\n",
    ">Nothing become out of what i expected here but i have notice two things:\n",
    "* Bike rides on Saturday and Sunday have longer durations compared to bike rides on other weekdays.\n",
    "*  3:00 AM has least bikers while 4:00 PM has the most bikers."
   ]
  },
  {
   "cell_type": "code",
   "execution_count": null,
   "metadata": {},
   "outputs": [],
   "source": [
    "!jupyter nbconvert slide_deck_template.ipynb --to slides --post serve --template output_toggle"
   ]
  },
  {
   "cell_type": "code",
   "execution_count": null,
   "metadata": {},
   "outputs": [],
   "source": []
  }
 ],
 "metadata": {
  "kernelspec": {
   "display_name": "Python 3",
   "language": "python",
   "name": "python3"
  },
  "language_info": {
   "codemirror_mode": {
    "name": "ipython",
    "version": 3
   },
   "file_extension": ".py",
   "mimetype": "text/x-python",
   "name": "python",
   "nbconvert_exporter": "python",
   "pygments_lexer": "ipython3",
   "version": "3.7.4"
  }
 },
 "nbformat": 4,
 "nbformat_minor": 4
}
